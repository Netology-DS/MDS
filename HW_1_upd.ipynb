{
  "nbformat": 4,
  "nbformat_minor": 0,
  "metadata": {
    "colab": {
      "name": "HW_1_upd",
      "provenance": [],
      "collapsed_sections": []
    },
    "kernelspec": {
      "name": "python3",
      "display_name": "Python 3"
    }
  },
  "cells": [
    {
      "cell_type": "markdown",
      "metadata": {
        "id": "_kX74ytuOfgy"
      },
      "source": [
        "# Домашнее задание \"Основные математические понятия\"."
      ]
    },
    {
      "cell_type": "markdown",
      "source": [
        ""
      ],
      "metadata": {
        "id": "nW5C45enfdcu"
      }
    },
    {
      "cell_type": "markdown",
      "source": [
        "## Уровень 0:\n"
      ],
      "metadata": {
        "id": "t69IZulqTZMz"
      }
    },
    {
      "cell_type": "markdown",
      "metadata": {
        "id": "rzDIWhwiKxdO"
      },
      "source": [
        "Представим фильмы в виде бинарных векторов (numpy array) используя следующие признаки:\n",
        "\n",
        "[Комедия, Боевик, Исторический, Бред Питт, Бенедикт Камбербэтч, Квентин Тарантино]\n",
        "\n",
        "[Игра в имитацию](https://www.kinopoisk.ru/film/635772/)\n",
        "\n",
        "[Ярость](https://www.kinopoisk.ru/film/740644/)\n",
        "\n",
        "[12 лет рабства](https://www.kinopoisk.ru/film/606646/)\n",
        "\n",
        "[Однажды в Голливуде](https://www.kinopoisk.ru/film/1047883/)\n",
        "\n",
        "```\n",
        "film_1 = np.array([0,0,0,0,1,0])      # Игра в имитацию\n",
        "\n",
        "film_2 = np.array([0,1,0,1,0,0])      # Ярость\n",
        "\n",
        "film_3 = np.array([0,0,1,1,1,0])      # 12 лет рабства\n",
        "\n",
        "film_4 = np.array([1,0,0,1,0,1])      # Однажды в Голливуде\n",
        "```\n",
        "\n"
      ]
    },
    {
      "cell_type": "code",
      "source": [
        "### YOUR CODE HERE"
      ],
      "metadata": {
        "id": "eawtOZO0few8"
      },
      "execution_count": null,
      "outputs": []
    },
    {
      "cell_type": "markdown",
      "source": [
        "### Задание 1"
      ],
      "metadata": {
        "id": "9JUikPzroAL8"
      }
    },
    {
      "cell_type": "markdown",
      "source": [
        "Найти угол между векторами-фильмами \"Ярость\" и \"12 лет рабства\". Результатом будет являться косинусная мера, которую можно использовать для определения похожести векторов."
      ],
      "metadata": {
        "id": "ya8BlSO5nQ9a"
      }
    },
    {
      "cell_type": "code",
      "source": [
        "### YOUR CODE HERE"
      ],
      "metadata": {
        "id": "p2gC3FEFnY08"
      },
      "execution_count": null,
      "outputs": []
    },
    {
      "cell_type": "markdown",
      "source": [
        "## Уровень 1:"
      ],
      "metadata": {
        "id": "qZxS_tEVTapE"
      }
    },
    {
      "cell_type": "markdown",
      "source": [
        "### Задание 2"
      ],
      "metadata": {
        "id": "gUB5Tx31oDZB"
      }
    },
    {
      "cell_type": "markdown",
      "source": [
        "Вычислить с помощью Python значение первой и второй производной для функции $3x(x^2+x)^3$ в точке $x=1$\n"
      ],
      "metadata": {
        "id": "Jh-pEPj-TcDQ"
      }
    },
    {
      "cell_type": "code",
      "source": [
        "### YOUR CODE HERE"
      ],
      "metadata": {
        "id": "uco5UzhWoHAP"
      },
      "execution_count": null,
      "outputs": []
    },
    {
      "cell_type": "markdown",
      "source": [
        "### Задание 3\n"
      ],
      "metadata": {
        "id": "aHk7fBooosb6"
      }
    },
    {
      "cell_type": "markdown",
      "source": [
        "Объединить векторы, полученные в Задании 1 в матрицу, где каждый вектор является строкой матрицы. Полученную матрицу умножить на вектор [1,2,3,4]"
      ],
      "metadata": {
        "id": "0MFp0SProbiw"
      }
    },
    {
      "cell_type": "code",
      "source": [
        "### YOUR CODE HERE"
      ],
      "metadata": {
        "id": "1OeJWLrpobqU"
      },
      "execution_count": null,
      "outputs": []
    }
  ]
}
