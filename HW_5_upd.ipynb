{
  "nbformat": 4,
  "nbformat_minor": 0,
  "metadata": {
    "colab": {
      "name": "HW_5_upd",
      "provenance": [],
      "collapsed_sections": []
    },
    "kernelspec": {
      "name": "python3",
      "display_name": "Python 3"
    }
  },
  "cells": [
    {
      "cell_type": "markdown",
      "metadata": {
        "id": "_kX74ytuOfgy"
      },
      "source": [
        "# Домашнее задание \"Функции нескольких переменных\"."
      ]
    },
    {
      "cell_type": "markdown",
      "source": [
        "## Уровень 0:\n"
      ],
      "metadata": {
        "id": "t69IZulqTZMz"
      }
    },
    {
      "cell_type": "markdown",
      "source": [
        "### Задание 1"
      ],
      "metadata": {
        "id": "9JUikPzroAL8"
      }
    },
    {
      "cell_type": "markdown",
      "source": [
        "Посчитайте частные производные функций:\n",
        "\n",
        "1) $f(x,y)=2x^2y^3 + 1/x + y^2x + 7$\n",
        "\n",
        "2) $f(x,y)=x^2y - sin(xy) + cos(x^2) + 6y$"
      ],
      "metadata": {
        "id": "ya8BlSO5nQ9a"
      }
    },
    {
      "cell_type": "code",
      "source": [
        "### YOUR CODE HERE"
      ],
      "metadata": {
        "id": "p2gC3FEFnY08"
      },
      "execution_count": null,
      "outputs": []
    },
    {
      "cell_type": "markdown",
      "source": [
        "## Уровень 1:"
      ],
      "metadata": {
        "id": "qZxS_tEVTapE"
      }
    },
    {
      "cell_type": "markdown",
      "source": [
        "### Задание 2"
      ],
      "metadata": {
        "id": "gUB5Tx31oDZB"
      }
    },
    {
      "cell_type": "markdown",
      "source": [
        "Вычислите градиент функции:\n",
        "\n",
        "$f(x,y)=2x^2y^3 + 1/x + y^2x + 7$\n",
        "\n",
        "в точке $(1,2)$"
      ],
      "metadata": {
        "id": "Jh-pEPj-TcDQ"
      }
    },
    {
      "cell_type": "code",
      "source": [
        "### YOUR CODE HERE"
      ],
      "metadata": {
        "id": "uco5UzhWoHAP"
      },
      "execution_count": null,
      "outputs": []
    },
    {
      "cell_type": "markdown",
      "source": [
        "### Задание 3"
      ],
      "metadata": {
        "id": "8VarIpdkxpGK"
      }
    },
    {
      "cell_type": "markdown",
      "source": [
        "Постройте трехмерный график функции\n",
        "\n",
        "$f(x)=x_2^2-x_1^2 x_2 + 2 x_1 x_2$"
      ],
      "metadata": {
        "id": "GWBRQp39xpIj"
      }
    },
    {
      "cell_type": "code",
      "source": [
        "### YOUR CODE HERE"
      ],
      "metadata": {
        "id": "p44HQDIUxpgx"
      },
      "execution_count": null,
      "outputs": []
    }
  ]
}