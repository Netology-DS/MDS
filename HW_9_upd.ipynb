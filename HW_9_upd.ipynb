{
  "nbformat": 4,
  "nbformat_minor": 0,
  "metadata": {
    "colab": {
      "name": "HW_9_upd",
      "provenance": [],
      "collapsed_sections": []
    },
    "kernelspec": {
      "name": "python3",
      "display_name": "Python 3"
    }
  },
  "cells": [
    {
      "cell_type": "markdown",
      "metadata": {
        "id": "rPddd74VhkfN"
      },
      "source": [
        "# Домашнее задание \"Центральная предельная теорема и статистика\"."
      ]
    },
    {
      "cell_type": "markdown",
      "metadata": {
        "id": "1xu7dfnnhkhe"
      },
      "source": [
        "## Задание."
      ]
    },
    {
      "cell_type": "markdown",
      "metadata": {
        "id": "uI8KNiPUhkly"
      },
      "source": [
        "В этом задании нужно убедиться, что ЦПТ действительно работает.\n",
        "\n",
        "Создайте случайную величину из [любого выбранного вами распределения](https://docs.scipy.org/doc/scipy/reference/stats.html), для разных значений `n` сгенерируйте 1000 выборок размера `n`. Постройте гистрограммы средних этих выборок и сделайте выводы."
      ]
    },
    {
      "cell_type": "code",
      "source": [
        "import pandas as pd\n",
        "import numpy as np\n",
        "import matplotlib.pyplot as plt\n",
        "import scipy.stats as sts\n",
        "%matplotlib inline"
      ],
      "metadata": {
        "id": "QrRvwD__Iu3j"
      },
      "execution_count": null,
      "outputs": []
    },
    {
      "cell_type": "code",
      "metadata": {
        "id": "ZvGvPtzViURC"
      },
      "source": [
        "rv = ### YOUR CODE HERE\n",
        "sample = rv.rvs(size=1000)"
      ],
      "execution_count": null,
      "outputs": []
    },
    {
      "cell_type": "code",
      "metadata": {
        "id": "XSpWp8P3iUfO"
      },
      "source": [
        "x = np.linspace(0,2,100)\n",
        "pdf = rv.pdf(x)\n",
        "plt.hist(sample, density=True, bins=30, label='sample histogram')\n",
        "plt.plot(x, pdf, label='theoretical pdf', alpha=0.5)\n",
        "plt.legend()\n",
        "plt.ylabel('fraction of samples, $f(x)$')\n",
        "plt.xlabel('$x$')\n",
        "plt.show()"
      ],
      "execution_count": null,
      "outputs": []
    },
    {
      "cell_type": "code",
      "metadata": {
        "id": "Rm7dyNaRib1G"
      },
      "source": [
        "n1 = 2                # Размеры выборок \n",
        "# YOUR CODE HERE\n",
        "\n",
        "a1 = np.array([])     # Массивы для сохранения средних по выборкам\n",
        "# YOUR CODE HERE\n",
        "\n",
        "samples_count = 1000  # Количество повторов генерации\n",
        "\n",
        "for number in range(samples_count): \n",
        "    sample1 = rv.rvs(size=n1)               # На каждом цикле генерируем выборки указанных размеров\n",
        "    # YOUR CODE HERE\n",
        "    a1 = np.append(a1, sample1.mean())      # Считаем среднее по каждой выборке и добавляем в массив средних\n",
        "    # YOUR CODE HERE"
      ],
      "execution_count": null,
      "outputs": []
    },
    {
      "cell_type": "code",
      "metadata": {
        "id": "vEkIWfggib5p"
      },
      "source": [
        "label_1 = 'sample of ' + str(n1) + ' histogram'   # Подписи для графиков\n",
        "# YOUR CODE HERE\n",
        "plt.hist(a1, density=True, label=label_1)         # Строим графики\n",
        "# YOUR CODE HERE\n",
        "\n",
        "plt.legend() \n",
        "plt.ylabel('samples means')\n",
        "plt.xlabel('$x$')"
      ],
      "execution_count": null,
      "outputs": []
    }
  ]
}
